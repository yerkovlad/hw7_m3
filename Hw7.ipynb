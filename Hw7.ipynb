{
 "cells": [
  {
   "cell_type": "code",
   "execution_count": 2,
   "metadata": {},
   "outputs": [],
   "source": [
    "import pandas as pd\n",
    "from surprise import Reader, Dataset, SVD, SVDpp, NMF\n",
    "from surprise.model_selection import cross_validate\n",
    "\n",
    "links = pd.read_csv('ml-latest-small/links.csv')\n",
    "movies = pd.read_csv('ml-latest-small/movies.csv')\n",
    "ratings = pd.read_csv('ml-latest-small/ratings.csv')\n",
    "tags = pd.read_csv('ml-latest-small/tags.csv')"
   ]
  },
  {
   "cell_type": "code",
   "execution_count": 3,
   "metadata": {},
   "outputs": [],
   "source": [
    "ratings = ratings[['userId', 'movieId', 'rating']]\n",
    "\n",
    "reader = Reader(rating_scale=(0.5, 5))\n",
    "\n",
    "data = Dataset.load_from_df(ratings, reader)"
   ]
  },
  {
   "cell_type": "code",
   "execution_count": 4,
   "metadata": {},
   "outputs": [
    {
     "name": "stdout",
     "output_type": "stream",
     "text": [
      "Evaluating RMSE, MAE of algorithm SVD on 5 split(s).\n",
      "\n",
      "                  Fold 1  Fold 2  Fold 3  Fold 4  Fold 5  Mean    Std     \n",
      "RMSE (testset)    0.8664  0.8740  0.8780  0.8643  0.8871  0.8740  0.0082  \n",
      "MAE (testset)     0.6639  0.6725  0.6741  0.6658  0.6804  0.6713  0.0060  \n",
      "Fit time          0.93    0.90    0.92    0.91    1.02    0.94    0.04    \n",
      "Test time         0.10    0.09    0.14    0.09    0.09    0.10    0.02    \n",
      "Evaluating RMSE, MAE of algorithm SVDpp on 5 split(s).\n",
      "\n",
      "                  Fold 1  Fold 2  Fold 3  Fold 4  Fold 5  Mean    Std     \n",
      "RMSE (testset)    0.8605  0.8549  0.8613  0.8652  0.8626  0.8609  0.0034  \n",
      "MAE (testset)     0.6589  0.6549  0.6613  0.6617  0.6604  0.6594  0.0025  \n",
      "Fit time          45.12   44.63   44.67   43.40   44.60   44.48   0.57    \n",
      "Test time         8.16    8.45    8.34    8.30    8.31    8.31    0.09    \n",
      "Evaluating RMSE, MAE of algorithm NMF on 5 split(s).\n",
      "\n",
      "                  Fold 1  Fold 2  Fold 3  Fold 4  Fold 5  Mean    Std     \n",
      "RMSE (testset)    0.9168  0.9173  0.9272  0.9244  0.9214  0.9214  0.0040  \n",
      "MAE (testset)     0.7005  0.7041  0.7052  0.7107  0.7059  0.7053  0.0033  \n",
      "Fit time          2.11    2.17    2.16    2.11    2.32    2.17    0.08    \n",
      "Test time         0.16    0.07    0.08    0.15    0.07    0.11    0.04    \n"
     ]
    }
   ],
   "source": [
    "svd_model = SVD()\n",
    "svd_results = cross_validate(svd_model, data, measures=['RMSE', 'MAE'], cv=5, verbose=True)\n",
    "\n",
    "svdpp_model = SVDpp()\n",
    "svdpp_results = cross_validate(svdpp_model, data, measures=['RMSE', 'MAE'], cv=5, verbose=True)\n",
    "\n",
    "nmf_model = NMF()\n",
    "nmf_results = cross_validate(nmf_model, data, measures=['RMSE', 'MAE'], cv=5, verbose=True)"
   ]
  }
 ],
 "metadata": {
  "kernelspec": {
   "display_name": "Python 3",
   "language": "python",
   "name": "python3"
  },
  "language_info": {
   "codemirror_mode": {
    "name": "ipython",
    "version": 3
   },
   "file_extension": ".py",
   "mimetype": "text/x-python",
   "name": "python",
   "nbconvert_exporter": "python",
   "pygments_lexer": "ipython3",
   "version": "3.11.4"
  }
 },
 "nbformat": 4,
 "nbformat_minor": 2
}
